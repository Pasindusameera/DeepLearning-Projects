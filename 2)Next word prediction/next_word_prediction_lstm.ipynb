{
  "cells": [
    {
      "cell_type": "code",
      "execution_count": 1,
      "metadata": {
        "id": "Cdy3wy15xEWI"
      },
      "outputs": [],
      "source": [
        "# import necessary libraries\n",
        "import numpy as np\n",
        "import tensorflow as tf"
      ]
    },
    {
      "cell_type": "markdown",
      "metadata": {
        "id": "iW-P5slUySTh"
      },
      "source": [
        "### Training Phase"
      ]
    },
    {
      "cell_type": "code",
      "execution_count": 2,
      "metadata": {
        "id": "vnlsTBS1xJrT"
      },
      "outputs": [
        {
          "name": "stdout",
          "output_type": "stream",
          "text": [
            "Cricket history is particularly murky and vague as to the exact origins of the game, it is believed to have been born in England in the late middle ages.\n",
            "\n",
            "Edward III banned a game similar to cricket in 1369, ‘pila baculorea’ or ‘club ball’ as it was known, as he saw it as being a distraction to his war effort.\n",
            "\n",
            "Derek Birley in his wonderful book, ‘A Social History of English Cricket’ suggests the game came to England with the French during the time of the Norman Invasion, that their word ‘criquet’ was the dialect name for a variation of club ball, the game Edward the III had sought to eradicate.\n",
            "\n",
            "There is record of the word ‘creag’ as a derivative of the word creaget in 1299-1300 in the Royal Wardrobe Accounts, for the then Prince Edward the II to play ‘creag’ and other games.\n",
            "\n",
            "There is no evidence that creag was the same as criquet, the links are too tenuous and games rarely appear in any records of this time unless the aristocracy were playing them or trying to have them eradicated as being morally degenerate.\n",
            "\n",
            "Cricket is first recorded as a game played by schoolboys in Guildford in the sixteenth century and is found recorded in an Italian -English dictionary in 1598.\n",
            "\n",
            "Gambling, the Aristocracy and Working Classes\n",
            "The game by 1611 was being played by adults, it is recorded that two men were prosecuted for playing cricket instead of attending church.\n",
            "\n",
            "On a similar theme, in 1628 ten men were fined for playing cricket rather than attending church service, they also had to make a confession to the congregation as way of penance.\n",
            "\n",
            "As the game continued to evolve amongst the working classes and the aristocracy, gambling became central to its growth.\n",
            "\n",
            "The aristocracy in particular, had seen in it, a game with the obvious attributes to bet on its outcomes. Teams were assembled under the patronage of Aristocrats and purses were put up for ‘great matches’.\n",
            "\n",
            "In 1696, ‘ a great match at Cricket was played in Sussex, they were eleven of a side, and they played for fifty guineas apiece’.\n",
            "\n",
            "The game had been growing both within the english upper classes and as a genuine recreational past time for rural workers in the southern counties of England.\n",
            "\n",
            "The composite teams that were beginning to be assembled for ‘great matches’ during this period of the early 1700’s, were crossing the class divides; as the purses played for encouraged the nobility that were patronizing the teams, to employ the best players that could be found.\n",
            "\n",
            "Thus, rural workers who had become adept at the game were being employed to play as ‘hands’ for the aristocracy and were travelling for their employ.\n",
            "\n",
            "At this time London, particularly North London, can lay claim to being the cradle of the game as matches staged in Islington at White Conduit Field had a ‘field keeper’ for cricket and the Angel Inn as part of its amenities.\n",
            "\n",
            "In 1718 a match at White Conduit Field brought cricket into the law courts after a dispute between the two teams.\n",
            "\n",
            "The other area to lay claim to the ‘Cradle of Cricket’ was Hambledon in Hampshire, where the matches staged at the Broad Down of Halfpenny were where cricket began to ‘ assume that truly skilful and scientific character which it now possesses.’\n",
            "\n",
            "The men of Hambledon were immortalised in the writing of John Nyren, who captured the spirit of the club, its segregation between the classes and its rich and varied club life.\n",
            "\n",
            "The game continued to spread through England as the provincial towns grew with industrialization, with the first recorded game in Yorkshire played in the 1750’s.\n",
            "\n",
            "The Laws of the Game\n",
            "\n",
            "By 1744 the Laws of Cricket had been codified and in 1788 the laws were revised by the Marylebone Cricket Club, they covered the length of the pitch, the distance between creases, wicket size, and ball weight.\n",
            "\n",
            "After 1760 the game saw the evolution of over arm bowling, replacing under arm bowling as the main way to deliver the ball. The game began to see the use of various lengths utilised by bowlers and the development of the craft of batting, as batters sought to respond to new bowling techniques.\n",
            "\n",
            "The ‘Straight Bat’ was introduced as part of this counter to new bowling techniques, the old bent ‘hockey stick’ style of bat went out of fashion.\n",
            "\n",
            "See the pictures here from a display at the Lords Museum that show the bats evolution\n",
            "\n",
            "\n",
            "\n",
            "The Global Spread of Cricket\n",
            "Cricket began to spread with Britains’ Imperialist ambitions, the Navy and Army were instrumental in its spread into the Colonies, with games being recorded in North America in the 1700’s.\n",
            "\n",
            "In the 1800’s cricket had reached the West Indies and India, by 1788 at the inception of colonization in Australia the game was played and in the 19th century cricket had reached and was being played in South Africaand New Zealand.\n",
            "\n",
            "The first International match was staged in New York in 1844 between Canada and the United States. In 1868 an Australian Aboriginal side toured England and by 1877 England played their first match against Australia to begin the games oldest rivalry.\n",
            "\n",
            "In 1882 England lost to Australia, a mock obituary was written for English cricket and two Melbourne ladies burnt a bail and presented it to the England cricket captain in an urn.\n",
            "\n",
            "Thus began the Ashes,the games longest running saga as the two sides play off every two years for the fabled urn.\n",
            "\n",
            "In 1889 South Africa became the third test nation.\n",
            "\n",
            "In 1900 cricket made its one and only appearance at the Olympics, England played France and won. Although interestingly, it looks as if cricket may be re-admitted to the Olympics in its shortest form, 20 20 cricket.\n",
            "\n",
            "By 1909 the Imperial Cricket Conference was formed to administrate the game, primarily from an English perspective, with England, South Africa and Australia being its founder members.\n",
            "\n",
            "India, the West Indies and New Zealand saw them become Test playing nations before the second WW, Pakistan joining after.\n",
            "\n",
            "Affiliate nations like Sri Lanka, formerly Ceylon, Zimababwe and Bangladesh have become Test playing nations toward the end of the twentieth century.\n",
            "\n",
            "Crises in Cricket\n",
            "The Twentieth Century saw major crises in cricket, initially in the bodyline series in 1932 -33 between Australia and England.\n",
            "\n",
            "Englands’ method of countering the genius of Don Bradman lead them to bowl to a leg side field with short pitched bowling. The Australians deemed this ‘not cricket’ and against the spirit of the game. It was an event of such proportions that Australia threatened to take political action they were so disturbed by it.\n",
            "\n",
            "Then in the 1970’s the D’Oliveira Affair blew South Africa from the international cricket stage for over twenty years, as they refused to receive the England team with the Cape Coloured Basil D’Oliveira in it.\n",
            "\n",
            "Its racist policies saw it cast into the wilderness only to return after the release of Nelson Mandela and the institution of multi racial cricket.\n",
            "\n",
            "The 1960’s and 70’s saw the introduction of single innings games, with the first class sides in England playing limited over cricket, these proved hugely popular and cricket saw its first One Day International in 1971 between England and Australia.\n",
            "\n",
            "In the mid 1970’s an Australian Media Mogul, Kerry Packer, bought up the worlds best cricketers and set up World Series Cricket, the players played in coloured clothing. Packer took on the cricket establishment in a legal battle for the right to host and televise games and won.\n",
            "\n",
            "World Series Cricket went a long way to professionalising the game in the 1970’s and allowing the players a living wage from their profession.\n",
            "\n",
            "Technology: Innovation or Invasion\n",
            "As the One Day game developed it brought with it some of the innovations from Tennis and American football, the use of technology to bring better decision making for umpires and to highlight areas of interest for the TV audience.\n",
            "\n",
            "Beginning with slow motion replays and specialist camera angles for Umpires, the game now has space age technology with ‘Stump Cams’,’Hot Spots’ and ‘Hawk Eye’, technology derived from modern warfare.\n",
            "\n",
            "Whether technology has improved the decison making of Umpires remains to be seen, there have been breakdowns in the application of technology and its lack of uniform roll out across all international games undermines its credibility.\n",
            "\n",
            "T20 Cricket: Rebirth or the Death of Cricket As We Know it?\n",
            " \n",
            "\n",
            "Twenty Twenty Cricket was born in England in the early 2000’s, it literally exploded into new market places in cricket, it brought with it a new audience and target market.\n",
            "\n",
            "It was spectacularly seized upon by the BCCI after the 2007 Twenty Twenty World Cup as they set up the Indian Premier League with the worlds best players, modelled on the English Premier League Football Competition.\n",
            "\n",
            "It is now the worlds second biggest sporting event, second only to the Olympics, because of India’s vast population and sub-continent marketplace.\n",
            "\n",
            "How it grows will remain to be seen, whether it consumes itself with overkill or goes on to be the biggest growth area in cricket in the 21st century, only time will tell.\n"
          ]
        }
      ],
      "source": [
        "# Windows file path with escape characters\n",
        "file_path = \"C:\\\\Users\\\\Pasidhu\\\\Desktop\\\\Github7\\\\DeepLearning-Projects\\\\2)Next word prediction\\\\cricket.txt\"\n",
        "\n",
        "# Open and read the file\n",
        "with open(file_path, 'r', encoding='utf-8') as file:\n",
        "    cricket_history = file.read()\n",
        "\n",
        "# Print the content to verify\n",
        "print(cricket_history)\n"
      ]
    },
    {
      "cell_type": "code",
      "execution_count": 3,
      "metadata": {
        "colab": {
          "base_uri": "https://localhost:8080/",
          "height": 87
        },
        "id": "1DFP668ryKx7",
        "outputId": "0bf6b96b-9a47-4780-e60d-50897bc23971"
      },
      "outputs": [
        {
          "data": {
            "text/plain": [
              "'Cricket history is particularly murky and vague as to the exact origins of the game, it is believed to have been born in England in the late middle ages.\\n\\nEdward III banned a game similar to cricket in 1369, ‘pila baculorea’ or ‘club ball’ as it was known, as he saw it as being a distraction to his war effort.\\n\\nDerek Birley in his wonderful book, ‘A Social History of English Cricket’ suggests the game came to England with the French during the time of the Norman Invasion, that their word ‘crique'"
            ]
          },
          "execution_count": 3,
          "metadata": {},
          "output_type": "execute_result"
        }
      ],
      "source": [
        "cricket_history[:500]"
      ]
    },
    {
      "cell_type": "code",
      "execution_count": 4,
      "metadata": {
        "id": "Pq6Esp5FyNrC"
      },
      "outputs": [],
      "source": [
        "tokenizer = tf.keras.preprocessing.text.Tokenizer()\n",
        "tokenizer.fit_on_texts([cricket_history])"
      ]
    },
    {
      "cell_type": "code",
      "execution_count": 5,
      "metadata": {
        "colab": {
          "base_uri": "https://localhost:8080/",
          "height": 35
        },
        "id": "ycBdRs9Q26y9",
        "outputId": "83e9495b-2923-487a-b65d-e97a7e6797d2"
      },
      "outputs": [
        {
          "data": {
            "text/plain": [
              "'!\"#$%&()*+,-./:;<=>?@[\\\\]^_`{|}~\\t\\n'"
            ]
          },
          "execution_count": 5,
          "metadata": {},
          "output_type": "execute_result"
        }
      ],
      "source": [
        "tokenizer.get_config()['filters']"
      ]
    },
    {
      "cell_type": "code",
      "execution_count": 6,
      "metadata": {
        "colab": {
          "base_uri": "https://localhost:8080/",
          "height": 157
        },
        "id": "xfaHK6oq34te",
        "outputId": "22284e6b-9bf3-4a3c-894c-6d4ab161defe"
      },
      "outputs": [
        {
          "data": {
            "text/plain": [
              "'{\"cricket\": 35, \"history\": 2, \"is\": 8, \"particularly\": 2, \"murky\": 1, \"and\": 47, \"vague\": 1, \"as\": 25, \"to\": 45, \"the\": 148, \"exact\": 1, \"origins\": 1, \"of\": 48, \"game\": 22, \"it\": 22, \"believed\": 1, \"have\": 4, \"been\": 4, \"born\": 2, \"in\": 57, \"england\": 15, \"late\": 1, \"middle\": 1, \"ages\": 1, \"edward\": 3, \"iii\": 2, \"banned\": 1, \"a\": 22, \"similar\": 2, \"1369\": 1, \"\\\\u2018pila\": 1, \"baculorea\\\\u2019\": 1, \"or\": 5, \"\\\\u2018club\": 1, \"ball\\\\u2019\": 1, \"was\": 15, \"known\": 1, \"he\": 1, \"saw\": 7, \"being\": 8, \"distraction\": 1, \"his\": 2, \"war\": 1, \"effort\": 1, \"derek\": 1, \"birley\": 1, \"wonderful\": 1, \"book\": 1, \"\\\\u2018a\": 1, \"social\": 1, \"english\": 6, \"cricket\\\\u2019\": 3, \"suggests\": 1, \"came\": 1, \"with\": 16, \"french\": 1, \"during\": 2, \"time\": 5, \"norman\": 1, \"invasion\": 2, \"that\": 9, \"their\": 4, \"word\": 3, \"\\\\u2018criquet\\\\u2019\": 1, \"dialect\": 1, \"name\": 1, \"for\": 19, \"variation\": 1, \"club\": 4, \"ball\": 3, \"had\": 9, \"sought\": 2, \"eradicate\": 1, \"there\": 3, \"record\": 1, \"\\\\u2018creag\\\\u2019\": 2, \"derivative\": 1, \"creaget\": 1, \"1299\": 1, \"1300\": 1, \"royal\": 1, \"wardrobe\": 1, \"accounts\": 1, \"then\": 2, \"prince\": 1, \"ii\": 1, \"play\": 3, \"other\": 2, \"games\": 8, \"no\": 1, \"evidence\": 1, \"creag\": 1, \"same\": 1, \"criquet\": 1, \"links\": 1, \"are\": 1, \"too\": 1, \"tenuous\": 1, \"rarely\": 1, \"appear\": 1, \"any\": 1, \"records\": 1, \"this\": 5, \"unless\": 1, \"aristocracy\": 5, \"were\": 16, \"playing\": 6, \"them\": 4, \"trying\": 1, \"eradicated\": 1, \"morally\": 1, \"degenerate\": 1, \"first\": 6, \"recorded\": 5, \"played\": 11, \"by\": 11, \"schoolboys\": 1, \"guildford\": 1, \"sixteenth\": 1, \"century\": 5, \"found\": 2, \"an\": 6, \"italian\": 1, \"dictionary\": 1, \"1598\": 1, \"gambling\": 2, \"working\": 2, \"classes\": 4, \"1611\": 1, \"adults\": 1, \"two\": 5, \"men\": 3, \"prosecuted\": 1, \"instead\": 1, \"attending\": 2, \"church\": 2, \"on\": 5, \"theme\": 1, \"1628\": 1, \"ten\": 1, \"fined\": 1, \"rather\": 1, \"than\": 1, \"service\": 1, \"they\": 7, \"also\": 1, \"make\": 1, \"confession\": 1, \"congregation\": 1, \"way\": 3, \"penance\": 1, \"continued\": 2, \"evolve\": 1, \"amongst\": 1, \"became\": 2, \"central\": 1, \"its\": 13, \"growth\": 2, \"particular\": 1, \"seen\": 3, \"obvious\": 1, \"attributes\": 1, \"bet\": 1, \"outcomes\": 1, \"teams\": 4, \"assembled\": 2, \"under\": 2, \"patronage\": 1, \"aristocrats\": 1, \"purses\": 2, \"put\": 1, \"up\": 4, \"\\\\u2018great\": 2, \"matches\\\\u2019\": 2, \"1696\": 1, \"\\\\u2018\": 2, \"great\": 1, \"match\": 4, \"at\": 9, \"sussex\": 1, \"eleven\": 1, \"side\": 3, \"fifty\": 1, \"guineas\": 1, \"apiece\\\\u2019\": 1, \"growing\": 1, \"both\": 1, \"within\": 1, \"upper\": 1, \"genuine\": 1, \"recreational\": 1, \"past\": 1, \"rural\": 2, \"workers\": 2, \"southern\": 1, \"counties\": 1, \"composite\": 1, \"beginning\": 2, \"be\": 6, \"period\": 1, \"early\": 2, \"1700\\\\u2019s\": 2, \"crossing\": 1, \"class\": 2, \"divides\": 1, \"encouraged\": 1, \"nobility\": 1, \"patronizing\": 1, \"employ\": 2, \"best\": 3, \"players\": 4, \"could\": 1, \"thus\": 2, \"who\": 2, \"become\": 3, \"adept\": 1, \"employed\": 1, \"\\\\u2018hands\\\\u2019\": 1, \"travelling\": 1, \"london\": 2, \"north\": 2, \"can\": 1, \"lay\": 2, \"claim\": 2, \"cradle\": 1, \"matches\": 2, \"staged\": 3, \"islington\": 1, \"white\": 2, \"conduit\": 2, \"field\": 3, \"\\\\u2018field\": 1, \"keeper\\\\u2019\": 1, \"angel\": 1, \"inn\": 1, \"part\": 2, \"amenities\": 1, \"1718\": 1, \"brought\": 3, \"into\": 4, \"law\": 1, \"courts\": 1, \"after\": 5, \"dispute\": 1, \"between\": 6, \"area\": 2, \"\\\\u2018cradle\": 1, \"hambledon\": 2, \"hampshire\": 1, \"where\": 2, \"broad\": 1, \"down\": 1, \"halfpenny\": 1, \"began\": 4, \"assume\": 1, \"truly\": 1, \"skilful\": 1, \"scientific\": 1, \"character\": 1, \"which\": 1, \"now\": 3, \"possesses\": 1, \"\\\\u2019\": 1, \"immortalised\": 1, \"writing\": 1, \"john\": 1, \"nyren\": 1, \"captured\": 1, \"spirit\": 2, \"segregation\": 1, \"rich\": 1, \"varied\": 1, \"life\": 1, \"spread\": 4, \"through\": 1, \"provincial\": 1, \"towns\": 1, \"grew\": 1, \"industrialization\": 1, \"yorkshire\": 1, \"1750\\\\u2019s\": 1, \"laws\": 3, \"1744\": 1, \"codified\": 1, \"1788\": 2, \"revised\": 1, \"marylebone\": 1, \"covered\": 1, \"length\": 1, \"pitch\": 1, \"distance\": 1, \"creases\": 1, \"wicket\": 1, \"size\": 1, \"weight\": 1, \"1760\": 1, \"evolution\": 2, \"over\": 3, \"arm\": 2, \"bowling\": 5, \"replacing\": 1, \"main\": 1, \"deliver\": 1, \"see\": 2, \"use\": 2, \"various\": 1, \"lengths\": 1, \"utilised\": 1, \"bowlers\": 1, \"development\": 1, \"craft\": 1, \"batting\": 1, \"batters\": 1, \"respond\": 1, \"new\": 7, \"techniques\": 2, \"\\\\u2018straight\": 1, \"bat\\\\u2019\": 1, \"introduced\": 1, \"counter\": 1, \"old\": 1, \"bent\": 1, \"\\\\u2018hockey\": 1, \"stick\\\\u2019\": 1, \"style\": 1, \"bat\": 1, \"went\": 2, \"out\": 2, \"fashion\": 1, \"pictures\": 1, \"here\": 1, \"from\": 6, \"display\": 1, \"lords\": 1, \"museum\": 1, \"show\": 1, \"bats\": 1, \"global\": 1, \"britains\\\\u2019\": 1, \"imperialist\": 1, \"ambitions\": 1, \"navy\": 1, \"army\": 1, \"instrumental\": 1, \"colonies\": 1, \"america\": 1, \"1800\\\\u2019s\": 1, \"reached\": 2, \"west\": 2, \"indies\": 2, \"india\": 2, \"inception\": 1, \"colonization\": 1, \"australia\": 7, \"19th\": 1, \"south\": 4, \"africaand\": 1, \"zealand\": 2, \"international\": 4, \"york\": 1, \"1844\": 1, \"canada\": 1, \"united\": 1, \"states\": 1, \"1868\": 1, \"australian\": 2, \"aboriginal\": 1, \"toured\": 1, \"1877\": 1, \"against\": 2, \"begin\": 1, \"oldest\": 1, \"rivalry\": 1, \"1882\": 1, \"lost\": 1, \"mock\": 1, \"obituary\": 1, \"written\": 1, \"melbourne\": 1, \"ladies\": 1, \"burnt\": 1, \"bail\": 1, \"presented\": 1, \"captain\": 1, \"urn\": 2, \"ashes\": 1, \"longest\": 1, \"running\": 1, \"saga\": 1, \"sides\": 2, \"off\": 1, \"every\": 1, \"years\": 2, \"fabled\": 1, \"1889\": 1, \"africa\": 3, \"third\": 1, \"test\": 3, \"nation\": 1, \"1900\": 1, \"made\": 1, \"one\": 3, \"only\": 4, \"appearance\": 1, \"olympics\": 3, \"france\": 1, \"won\": 2, \"although\": 1, \"interestingly\": 1, \"looks\": 1, \"if\": 1, \"may\": 1, \"re\": 1, \"admitted\": 1, \"shortest\": 1, \"form\": 1, \"20\": 2, \"1909\": 1, \"imperial\": 1, \"conference\": 1, \"formed\": 1, \"administrate\": 1, \"primarily\": 1, \"perspective\": 1, \"founder\": 1, \"members\": 1, \"nations\": 3, \"before\": 1, \"second\": 3, \"ww\": 1, \"pakistan\": 1, \"joining\": 1, \"affiliate\": 1, \"like\": 1, \"sri\": 1, \"lanka\": 1, \"formerly\": 1, \"ceylon\": 1, \"zimababwe\": 1, \"bangladesh\": 1, \"toward\": 1, \"end\": 1, \"twentieth\": 2, \"crises\": 2, \"major\": 1, \"initially\": 1, \"bodyline\": 1, \"series\": 3, \"1932\": 1, \"33\": 1, \"englands\\\\u2019\": 1, \"method\": 1, \"countering\": 1, \"genius\": 1, \"don\": 1, \"bradman\": 1, \"lead\": 1, \"bowl\": 1, \"leg\": 1, \"short\": 1, \"pitched\": 1, \"australians\": 1, \"deemed\": 1, \"\\\\u2018not\": 1, \"event\": 2, \"such\": 1, \"proportions\": 1, \"threatened\": 1, \"take\": 1, \"political\": 1, \"action\": 1, \"so\": 1, \"disturbed\": 1, \"1970\\\\u2019s\": 3, \"d\\\\u2019oliveira\": 2, \"affair\": 1, \"blew\": 1, \"stage\": 1, \"twenty\": 5, \"refused\": 1, \"receive\": 1, \"team\": 1, \"cape\": 1, \"coloured\": 2, \"basil\": 1, \"racist\": 1, \"policies\": 1, \"cast\": 1, \"wilderness\": 1, \"return\": 1, \"release\": 1, \"nelson\": 1, \"mandela\": 1, \"institution\": 1, \"multi\": 1, \"racial\": 1, \"1960\\\\u2019s\": 1, \"70\\\\u2019s\": 1, \"introduction\": 1, \"single\": 1, \"innings\": 1, \"limited\": 1, \"these\": 1, \"proved\": 1, \"hugely\": 1, \"popular\": 1, \"day\": 2, \"1971\": 1, \"mid\": 1, \"media\": 1, \"mogul\": 1, \"kerry\": 1, \"packer\": 2, \"bought\": 1, \"worlds\": 3, \"cricketers\": 1, \"set\": 2, \"world\": 3, \"clothing\": 1, \"took\": 1, \"establishment\": 1, \"legal\": 1, \"battle\": 1, \"right\": 1, \"host\": 1, \"televise\": 1, \"long\": 1, \"professionalising\": 1, \"allowing\": 1, \"living\": 1, \"wage\": 1, \"profession\": 1, \"technology\": 6, \"innovation\": 1, \"developed\": 1, \"some\": 1, \"innovations\": 1, \"tennis\": 1, \"american\": 1, \"football\": 2, \"bring\": 1, \"better\": 1, \"decision\": 1, \"making\": 2, \"umpires\": 3, \"highlight\": 1, \"areas\": 1, \"interest\": 1, \"tv\": 1, \"audience\": 2, \"slow\": 1, \"motion\": 1, \"replays\": 1, \"specialist\": 1, \"camera\": 1, \"angles\": 1, \"has\": 2, \"space\": 1, \"age\": 1, \"\\\\u2018stump\": 1, \"cams\\\\u2019\": 1, \"\\\\u2019hot\": 1, \"spots\\\\u2019\": 1, \"\\\\u2018hawk\": 1, \"eye\\\\u2019\": 1, \"derived\": 1, \"modern\": 1, \"warfare\": 1, \"whether\": 2, \"improved\": 1, \"decison\": 1, \"remains\": 1, \"breakdowns\": 1, \"application\": 1, \"lack\": 1, \"uniform\": 1, \"roll\": 1, \"across\": 1, \"all\": 1, \"undermines\": 1, \"credibility\": 1, \"t20\": 1, \"rebirth\": 1, \"death\": 1, \"we\": 1, \"know\": 1, \"2000\\\\u2019s\": 1, \"literally\": 1, \"exploded\": 1, \"market\": 2, \"places\": 1, \"target\": 1, \"spectacularly\": 1, \"seized\": 1, \"upon\": 1, \"bcci\": 1, \"2007\": 1, \"cup\": 1, \"indian\": 1, \"premier\": 2, \"league\": 2, \"modelled\": 1, \"competition\": 1, \"biggest\": 2, \"sporting\": 1, \"because\": 1, \"india\\\\u2019s\": 1, \"vast\": 1, \"population\": 1, \"sub\": 1, \"continent\": 1, \"marketplace\": 1, \"how\": 1, \"grows\": 1, \"will\": 2, \"remain\": 1, \"consumes\": 1, \"itself\": 1, \"overkill\": 1, \"goes\": 1, \"21st\": 1, \"tell\": 1}'"
            ]
          },
          "execution_count": 6,
          "metadata": {},
          "output_type": "execute_result"
        }
      ],
      "source": [
        "tokenizer.get_config()['word_counts']"
      ]
    },
    {
      "cell_type": "code",
      "execution_count": 7,
      "metadata": {
        "colab": {
          "base_uri": "https://localhost:8080/"
        },
        "id": "Cj3C0xtXyTZf",
        "outputId": "a8a66a3b-e4a4-435d-d769-af92aaf6f6d3"
      },
      "outputs": [
        {
          "data": {
            "text/plain": [
              "{'the': 1,\n",
              " 'in': 2,\n",
              " 'of': 3,\n",
              " 'and': 4,\n",
              " 'to': 5,\n",
              " 'cricket': 6,\n",
              " 'as': 7,\n",
              " 'game': 8,\n",
              " 'it': 9,\n",
              " 'a': 10,\n",
              " 'for': 11,\n",
              " 'with': 12,\n",
              " 'were': 13,\n",
              " 'england': 14,\n",
              " 'was': 15,\n",
              " 'its': 16,\n",
              " 'played': 17,\n",
              " 'by': 18,\n",
              " 'that': 19,\n",
              " 'had': 20,\n",
              " 'at': 21,\n",
              " 'is': 22,\n",
              " 'being': 23,\n",
              " 'games': 24,\n",
              " 'saw': 25,\n",
              " 'they': 26,\n",
              " 'new': 27,\n",
              " 'australia': 28,\n",
              " 'english': 29,\n",
              " 'playing': 30,\n",
              " 'first': 31,\n",
              " 'an': 32,\n",
              " 'be': 33,\n",
              " 'between': 34,\n",
              " 'from': 35,\n",
              " 'technology': 36,\n",
              " 'or': 37,\n",
              " 'time': 38,\n",
              " 'this': 39,\n",
              " 'aristocracy': 40,\n",
              " 'recorded': 41,\n",
              " 'century': 42,\n",
              " 'two': 43,\n",
              " 'on': 44,\n",
              " 'after': 45,\n",
              " 'bowling': 46,\n",
              " 'twenty': 47,\n",
              " 'have': 48,\n",
              " 'been': 49,\n",
              " 'their': 50,\n",
              " 'club': 51,\n",
              " 'them': 52,\n",
              " 'classes': 53,\n",
              " 'teams': 54,\n",
              " 'up': 55,\n",
              " 'match': 56,\n",
              " 'players': 57,\n",
              " 'into': 58,\n",
              " 'began': 59,\n",
              " 'spread': 60,\n",
              " 'south': 61,\n",
              " 'international': 62,\n",
              " 'only': 63,\n",
              " 'edward': 64,\n",
              " 'cricket’': 65,\n",
              " 'word': 66,\n",
              " 'ball': 67,\n",
              " 'there': 68,\n",
              " 'play': 69,\n",
              " 'men': 70,\n",
              " 'way': 71,\n",
              " 'seen': 72,\n",
              " 'side': 73,\n",
              " 'best': 74,\n",
              " 'become': 75,\n",
              " 'staged': 76,\n",
              " 'field': 77,\n",
              " 'brought': 78,\n",
              " 'now': 79,\n",
              " 'laws': 80,\n",
              " 'over': 81,\n",
              " 'africa': 82,\n",
              " 'test': 83,\n",
              " 'one': 84,\n",
              " 'olympics': 85,\n",
              " 'nations': 86,\n",
              " 'second': 87,\n",
              " 'series': 88,\n",
              " '1970’s': 89,\n",
              " 'worlds': 90,\n",
              " 'world': 91,\n",
              " 'umpires': 92,\n",
              " 'history': 93,\n",
              " 'particularly': 94,\n",
              " 'born': 95,\n",
              " 'iii': 96,\n",
              " 'similar': 97,\n",
              " 'his': 98,\n",
              " 'during': 99,\n",
              " 'invasion': 100,\n",
              " 'sought': 101,\n",
              " '‘creag’': 102,\n",
              " 'then': 103,\n",
              " 'other': 104,\n",
              " 'found': 105,\n",
              " 'gambling': 106,\n",
              " 'working': 107,\n",
              " 'attending': 108,\n",
              " 'church': 109,\n",
              " 'continued': 110,\n",
              " 'became': 111,\n",
              " 'growth': 112,\n",
              " 'assembled': 113,\n",
              " 'under': 114,\n",
              " 'purses': 115,\n",
              " '‘great': 116,\n",
              " 'matches’': 117,\n",
              " '‘': 118,\n",
              " 'rural': 119,\n",
              " 'workers': 120,\n",
              " 'beginning': 121,\n",
              " 'early': 122,\n",
              " '1700’s': 123,\n",
              " 'class': 124,\n",
              " 'employ': 125,\n",
              " 'thus': 126,\n",
              " 'who': 127,\n",
              " 'london': 128,\n",
              " 'north': 129,\n",
              " 'lay': 130,\n",
              " 'claim': 131,\n",
              " 'matches': 132,\n",
              " 'white': 133,\n",
              " 'conduit': 134,\n",
              " 'part': 135,\n",
              " 'area': 136,\n",
              " 'hambledon': 137,\n",
              " 'where': 138,\n",
              " 'spirit': 139,\n",
              " '1788': 140,\n",
              " 'evolution': 141,\n",
              " 'arm': 142,\n",
              " 'see': 143,\n",
              " 'use': 144,\n",
              " 'techniques': 145,\n",
              " 'went': 146,\n",
              " 'out': 147,\n",
              " 'reached': 148,\n",
              " 'west': 149,\n",
              " 'indies': 150,\n",
              " 'india': 151,\n",
              " 'zealand': 152,\n",
              " 'australian': 153,\n",
              " 'against': 154,\n",
              " 'urn': 155,\n",
              " 'sides': 156,\n",
              " 'years': 157,\n",
              " 'won': 158,\n",
              " '20': 159,\n",
              " 'twentieth': 160,\n",
              " 'crises': 161,\n",
              " 'event': 162,\n",
              " 'd’oliveira': 163,\n",
              " 'coloured': 164,\n",
              " 'day': 165,\n",
              " 'packer': 166,\n",
              " 'set': 167,\n",
              " 'football': 168,\n",
              " 'making': 169,\n",
              " 'audience': 170,\n",
              " 'has': 171,\n",
              " 'whether': 172,\n",
              " 'market': 173,\n",
              " 'premier': 174,\n",
              " 'league': 175,\n",
              " 'biggest': 176,\n",
              " 'will': 177,\n",
              " 'murky': 178,\n",
              " 'vague': 179,\n",
              " 'exact': 180,\n",
              " 'origins': 181,\n",
              " 'believed': 182,\n",
              " 'late': 183,\n",
              " 'middle': 184,\n",
              " 'ages': 185,\n",
              " 'banned': 186,\n",
              " '1369': 187,\n",
              " '‘pila': 188,\n",
              " 'baculorea’': 189,\n",
              " '‘club': 190,\n",
              " 'ball’': 191,\n",
              " 'known': 192,\n",
              " 'he': 193,\n",
              " 'distraction': 194,\n",
              " 'war': 195,\n",
              " 'effort': 196,\n",
              " 'derek': 197,\n",
              " 'birley': 198,\n",
              " 'wonderful': 199,\n",
              " 'book': 200,\n",
              " '‘a': 201,\n",
              " 'social': 202,\n",
              " 'suggests': 203,\n",
              " 'came': 204,\n",
              " 'french': 205,\n",
              " 'norman': 206,\n",
              " '‘criquet’': 207,\n",
              " 'dialect': 208,\n",
              " 'name': 209,\n",
              " 'variation': 210,\n",
              " 'eradicate': 211,\n",
              " 'record': 212,\n",
              " 'derivative': 213,\n",
              " 'creaget': 214,\n",
              " '1299': 215,\n",
              " '1300': 216,\n",
              " 'royal': 217,\n",
              " 'wardrobe': 218,\n",
              " 'accounts': 219,\n",
              " 'prince': 220,\n",
              " 'ii': 221,\n",
              " 'no': 222,\n",
              " 'evidence': 223,\n",
              " 'creag': 224,\n",
              " 'same': 225,\n",
              " 'criquet': 226,\n",
              " 'links': 227,\n",
              " 'are': 228,\n",
              " 'too': 229,\n",
              " 'tenuous': 230,\n",
              " 'rarely': 231,\n",
              " 'appear': 232,\n",
              " 'any': 233,\n",
              " 'records': 234,\n",
              " 'unless': 235,\n",
              " 'trying': 236,\n",
              " 'eradicated': 237,\n",
              " 'morally': 238,\n",
              " 'degenerate': 239,\n",
              " 'schoolboys': 240,\n",
              " 'guildford': 241,\n",
              " 'sixteenth': 242,\n",
              " 'italian': 243,\n",
              " 'dictionary': 244,\n",
              " '1598': 245,\n",
              " '1611': 246,\n",
              " 'adults': 247,\n",
              " 'prosecuted': 248,\n",
              " 'instead': 249,\n",
              " 'theme': 250,\n",
              " '1628': 251,\n",
              " 'ten': 252,\n",
              " 'fined': 253,\n",
              " 'rather': 254,\n",
              " 'than': 255,\n",
              " 'service': 256,\n",
              " 'also': 257,\n",
              " 'make': 258,\n",
              " 'confession': 259,\n",
              " 'congregation': 260,\n",
              " 'penance': 261,\n",
              " 'evolve': 262,\n",
              " 'amongst': 263,\n",
              " 'central': 264,\n",
              " 'particular': 265,\n",
              " 'obvious': 266,\n",
              " 'attributes': 267,\n",
              " 'bet': 268,\n",
              " 'outcomes': 269,\n",
              " 'patronage': 270,\n",
              " 'aristocrats': 271,\n",
              " 'put': 272,\n",
              " '1696': 273,\n",
              " 'great': 274,\n",
              " 'sussex': 275,\n",
              " 'eleven': 276,\n",
              " 'fifty': 277,\n",
              " 'guineas': 278,\n",
              " 'apiece’': 279,\n",
              " 'growing': 280,\n",
              " 'both': 281,\n",
              " 'within': 282,\n",
              " 'upper': 283,\n",
              " 'genuine': 284,\n",
              " 'recreational': 285,\n",
              " 'past': 286,\n",
              " 'southern': 287,\n",
              " 'counties': 288,\n",
              " 'composite': 289,\n",
              " 'period': 290,\n",
              " 'crossing': 291,\n",
              " 'divides': 292,\n",
              " 'encouraged': 293,\n",
              " 'nobility': 294,\n",
              " 'patronizing': 295,\n",
              " 'could': 296,\n",
              " 'adept': 297,\n",
              " 'employed': 298,\n",
              " '‘hands’': 299,\n",
              " 'travelling': 300,\n",
              " 'can': 301,\n",
              " 'cradle': 302,\n",
              " 'islington': 303,\n",
              " '‘field': 304,\n",
              " 'keeper’': 305,\n",
              " 'angel': 306,\n",
              " 'inn': 307,\n",
              " 'amenities': 308,\n",
              " '1718': 309,\n",
              " 'law': 310,\n",
              " 'courts': 311,\n",
              " 'dispute': 312,\n",
              " '‘cradle': 313,\n",
              " 'hampshire': 314,\n",
              " 'broad': 315,\n",
              " 'down': 316,\n",
              " 'halfpenny': 317,\n",
              " 'assume': 318,\n",
              " 'truly': 319,\n",
              " 'skilful': 320,\n",
              " 'scientific': 321,\n",
              " 'character': 322,\n",
              " 'which': 323,\n",
              " 'possesses': 324,\n",
              " '’': 325,\n",
              " 'immortalised': 326,\n",
              " 'writing': 327,\n",
              " 'john': 328,\n",
              " 'nyren': 329,\n",
              " 'captured': 330,\n",
              " 'segregation': 331,\n",
              " 'rich': 332,\n",
              " 'varied': 333,\n",
              " 'life': 334,\n",
              " 'through': 335,\n",
              " 'provincial': 336,\n",
              " 'towns': 337,\n",
              " 'grew': 338,\n",
              " 'industrialization': 339,\n",
              " 'yorkshire': 340,\n",
              " '1750’s': 341,\n",
              " '1744': 342,\n",
              " 'codified': 343,\n",
              " 'revised': 344,\n",
              " 'marylebone': 345,\n",
              " 'covered': 346,\n",
              " 'length': 347,\n",
              " 'pitch': 348,\n",
              " 'distance': 349,\n",
              " 'creases': 350,\n",
              " 'wicket': 351,\n",
              " 'size': 352,\n",
              " 'weight': 353,\n",
              " '1760': 354,\n",
              " 'replacing': 355,\n",
              " 'main': 356,\n",
              " 'deliver': 357,\n",
              " 'various': 358,\n",
              " 'lengths': 359,\n",
              " 'utilised': 360,\n",
              " 'bowlers': 361,\n",
              " 'development': 362,\n",
              " 'craft': 363,\n",
              " 'batting': 364,\n",
              " 'batters': 365,\n",
              " 'respond': 366,\n",
              " '‘straight': 367,\n",
              " 'bat’': 368,\n",
              " 'introduced': 369,\n",
              " 'counter': 370,\n",
              " 'old': 371,\n",
              " 'bent': 372,\n",
              " '‘hockey': 373,\n",
              " 'stick’': 374,\n",
              " 'style': 375,\n",
              " 'bat': 376,\n",
              " 'fashion': 377,\n",
              " 'pictures': 378,\n",
              " 'here': 379,\n",
              " 'display': 380,\n",
              " 'lords': 381,\n",
              " 'museum': 382,\n",
              " 'show': 383,\n",
              " 'bats': 384,\n",
              " 'global': 385,\n",
              " 'britains’': 386,\n",
              " 'imperialist': 387,\n",
              " 'ambitions': 388,\n",
              " 'navy': 389,\n",
              " 'army': 390,\n",
              " 'instrumental': 391,\n",
              " 'colonies': 392,\n",
              " 'america': 393,\n",
              " '1800’s': 394,\n",
              " 'inception': 395,\n",
              " 'colonization': 396,\n",
              " '19th': 397,\n",
              " 'africaand': 398,\n",
              " 'york': 399,\n",
              " '1844': 400,\n",
              " 'canada': 401,\n",
              " 'united': 402,\n",
              " 'states': 403,\n",
              " '1868': 404,\n",
              " 'aboriginal': 405,\n",
              " 'toured': 406,\n",
              " '1877': 407,\n",
              " 'begin': 408,\n",
              " 'oldest': 409,\n",
              " 'rivalry': 410,\n",
              " '1882': 411,\n",
              " 'lost': 412,\n",
              " 'mock': 413,\n",
              " 'obituary': 414,\n",
              " 'written': 415,\n",
              " 'melbourne': 416,\n",
              " 'ladies': 417,\n",
              " 'burnt': 418,\n",
              " 'bail': 419,\n",
              " 'presented': 420,\n",
              " 'captain': 421,\n",
              " 'ashes': 422,\n",
              " 'longest': 423,\n",
              " 'running': 424,\n",
              " 'saga': 425,\n",
              " 'off': 426,\n",
              " 'every': 427,\n",
              " 'fabled': 428,\n",
              " '1889': 429,\n",
              " 'third': 430,\n",
              " 'nation': 431,\n",
              " '1900': 432,\n",
              " 'made': 433,\n",
              " 'appearance': 434,\n",
              " 'france': 435,\n",
              " 'although': 436,\n",
              " 'interestingly': 437,\n",
              " 'looks': 438,\n",
              " 'if': 439,\n",
              " 'may': 440,\n",
              " 're': 441,\n",
              " 'admitted': 442,\n",
              " 'shortest': 443,\n",
              " 'form': 444,\n",
              " '1909': 445,\n",
              " 'imperial': 446,\n",
              " 'conference': 447,\n",
              " 'formed': 448,\n",
              " 'administrate': 449,\n",
              " 'primarily': 450,\n",
              " 'perspective': 451,\n",
              " 'founder': 452,\n",
              " 'members': 453,\n",
              " 'before': 454,\n",
              " 'ww': 455,\n",
              " 'pakistan': 456,\n",
              " 'joining': 457,\n",
              " 'affiliate': 458,\n",
              " 'like': 459,\n",
              " 'sri': 460,\n",
              " 'lanka': 461,\n",
              " 'formerly': 462,\n",
              " 'ceylon': 463,\n",
              " 'zimababwe': 464,\n",
              " 'bangladesh': 465,\n",
              " 'toward': 466,\n",
              " 'end': 467,\n",
              " 'major': 468,\n",
              " 'initially': 469,\n",
              " 'bodyline': 470,\n",
              " '1932': 471,\n",
              " '33': 472,\n",
              " 'englands’': 473,\n",
              " 'method': 474,\n",
              " 'countering': 475,\n",
              " 'genius': 476,\n",
              " 'don': 477,\n",
              " 'bradman': 478,\n",
              " 'lead': 479,\n",
              " 'bowl': 480,\n",
              " 'leg': 481,\n",
              " 'short': 482,\n",
              " 'pitched': 483,\n",
              " 'australians': 484,\n",
              " 'deemed': 485,\n",
              " '‘not': 486,\n",
              " 'such': 487,\n",
              " 'proportions': 488,\n",
              " 'threatened': 489,\n",
              " 'take': 490,\n",
              " 'political': 491,\n",
              " 'action': 492,\n",
              " 'so': 493,\n",
              " 'disturbed': 494,\n",
              " 'affair': 495,\n",
              " 'blew': 496,\n",
              " 'stage': 497,\n",
              " 'refused': 498,\n",
              " 'receive': 499,\n",
              " 'team': 500,\n",
              " 'cape': 501,\n",
              " 'basil': 502,\n",
              " 'racist': 503,\n",
              " 'policies': 504,\n",
              " 'cast': 505,\n",
              " 'wilderness': 506,\n",
              " 'return': 507,\n",
              " 'release': 508,\n",
              " 'nelson': 509,\n",
              " 'mandela': 510,\n",
              " 'institution': 511,\n",
              " 'multi': 512,\n",
              " 'racial': 513,\n",
              " '1960’s': 514,\n",
              " '70’s': 515,\n",
              " 'introduction': 516,\n",
              " 'single': 517,\n",
              " 'innings': 518,\n",
              " 'limited': 519,\n",
              " 'these': 520,\n",
              " 'proved': 521,\n",
              " 'hugely': 522,\n",
              " 'popular': 523,\n",
              " '1971': 524,\n",
              " 'mid': 525,\n",
              " 'media': 526,\n",
              " 'mogul': 527,\n",
              " 'kerry': 528,\n",
              " 'bought': 529,\n",
              " 'cricketers': 530,\n",
              " 'clothing': 531,\n",
              " 'took': 532,\n",
              " 'establishment': 533,\n",
              " 'legal': 534,\n",
              " 'battle': 535,\n",
              " 'right': 536,\n",
              " 'host': 537,\n",
              " 'televise': 538,\n",
              " 'long': 539,\n",
              " 'professionalising': 540,\n",
              " 'allowing': 541,\n",
              " 'living': 542,\n",
              " 'wage': 543,\n",
              " 'profession': 544,\n",
              " 'innovation': 545,\n",
              " 'developed': 546,\n",
              " 'some': 547,\n",
              " 'innovations': 548,\n",
              " 'tennis': 549,\n",
              " 'american': 550,\n",
              " 'bring': 551,\n",
              " 'better': 552,\n",
              " 'decision': 553,\n",
              " 'highlight': 554,\n",
              " 'areas': 555,\n",
              " 'interest': 556,\n",
              " 'tv': 557,\n",
              " 'slow': 558,\n",
              " 'motion': 559,\n",
              " 'replays': 560,\n",
              " 'specialist': 561,\n",
              " 'camera': 562,\n",
              " 'angles': 563,\n",
              " 'space': 564,\n",
              " 'age': 565,\n",
              " '‘stump': 566,\n",
              " 'cams’': 567,\n",
              " '’hot': 568,\n",
              " 'spots’': 569,\n",
              " '‘hawk': 570,\n",
              " 'eye’': 571,\n",
              " 'derived': 572,\n",
              " 'modern': 573,\n",
              " 'warfare': 574,\n",
              " 'improved': 575,\n",
              " 'decison': 576,\n",
              " 'remains': 577,\n",
              " 'breakdowns': 578,\n",
              " 'application': 579,\n",
              " 'lack': 580,\n",
              " 'uniform': 581,\n",
              " 'roll': 582,\n",
              " 'across': 583,\n",
              " 'all': 584,\n",
              " 'undermines': 585,\n",
              " 'credibility': 586,\n",
              " 't20': 587,\n",
              " 'rebirth': 588,\n",
              " 'death': 589,\n",
              " 'we': 590,\n",
              " 'know': 591,\n",
              " '2000’s': 592,\n",
              " 'literally': 593,\n",
              " 'exploded': 594,\n",
              " 'places': 595,\n",
              " 'target': 596,\n",
              " 'spectacularly': 597,\n",
              " 'seized': 598,\n",
              " 'upon': 599,\n",
              " 'bcci': 600,\n",
              " '2007': 601,\n",
              " 'cup': 602,\n",
              " 'indian': 603,\n",
              " 'modelled': 604,\n",
              " 'competition': 605,\n",
              " 'sporting': 606,\n",
              " 'because': 607,\n",
              " 'india’s': 608,\n",
              " 'vast': 609,\n",
              " 'population': 610,\n",
              " 'sub': 611,\n",
              " 'continent': 612,\n",
              " 'marketplace': 613,\n",
              " 'how': 614,\n",
              " 'grows': 615,\n",
              " 'remain': 616,\n",
              " 'consumes': 617,\n",
              " 'itself': 618,\n",
              " 'overkill': 619,\n",
              " 'goes': 620,\n",
              " '21st': 621,\n",
              " 'tell': 622}"
            ]
          },
          "execution_count": 7,
          "metadata": {},
          "output_type": "execute_result"
        }
      ],
      "source": [
        "tokenizer.word_index"
      ]
    },
    {
      "cell_type": "code",
      "execution_count": 8,
      "metadata": {
        "id": "9fz15oF9yVsP"
      },
      "outputs": [],
      "source": [
        "input_sequences = []\n",
        "for sentence in cricket_history.split('\\n'):\n",
        "    token_list = tokenizer.texts_to_sequences([sentence])[0]\n",
        "    for i in range(1, len(token_list)):\n",
        "        sequence = token_list[:i+1]\n",
        "        input_sequences.append(sequence)"
      ]
    },
    {
      "cell_type": "code",
      "execution_count": 9,
      "metadata": {
        "colab": {
          "base_uri": "https://localhost:8080/"
        },
        "id": "BWjnCxp0L_lE",
        "outputId": "a6b942b9-244b-4977-cbac-d13233eb7a0a"
      },
      "outputs": [
        {
          "data": {
            "text/plain": [
              "[[6, 93],\n",
              " [6, 93, 22],\n",
              " [6, 93, 22, 94],\n",
              " [6, 93, 22, 94, 178],\n",
              " [6, 93, 22, 94, 178, 4]]"
            ]
          },
          "execution_count": 9,
          "metadata": {},
          "output_type": "execute_result"
        }
      ],
      "source": [
        "input_sequences[:5]"
      ]
    },
    {
      "cell_type": "code",
      "execution_count": 11,
      "metadata": {
        "colab": {
          "base_uri": "https://localhost:8080/"
        },
        "id": "9wRraxCOM-9k",
        "outputId": "8bcddf46-55ac-46b8-c95a-28409ad383e0"
      },
      "outputs": [
        {
          "data": {
            "text/plain": [
              "55"
            ]
          },
          "execution_count": 11,
          "metadata": {},
          "output_type": "execute_result"
        }
      ],
      "source": [
        "max_length = max([len(input_sequence) for input_sequence in input_sequences])\n",
        "max_length"
      ]
    },
    {
      "cell_type": "code",
      "execution_count": 12,
      "metadata": {
        "id": "b2-49gwjyflF"
      },
      "outputs": [],
      "source": [
        "# add padding\n",
        "input_sequences = np.array(tf.keras.preprocessing.sequence.pad_sequences(input_sequences, maxlen=max_length, padding='pre'))"
      ]
    },
    {
      "cell_type": "code",
      "execution_count": 13,
      "metadata": {
        "colab": {
          "base_uri": "https://localhost:8080/"
        },
        "id": "PPOPhp61NhAz",
        "outputId": "9644053f-ca31-4c3f-90ac-b5a9bd430c20"
      },
      "outputs": [
        {
          "data": {
            "text/plain": [
              "array([ 0,  0,  0,  0,  0,  0,  0,  0,  0,  0,  0,  0,  0,  0,  0,  0,  0,\n",
              "        0,  0,  0,  0,  0,  0,  0,  0,  0,  0,  0,  0,  0,  0,  0,  0,  0,\n",
              "        0,  0,  0,  0,  0,  0,  0,  0,  0,  0,  0,  0,  0,  0,  0,  0,  0,\n",
              "        0,  6, 93, 22])"
            ]
          },
          "execution_count": 13,
          "metadata": {},
          "output_type": "execute_result"
        }
      ],
      "source": [
        "input_sequences[1]"
      ]
    },
    {
      "cell_type": "code",
      "execution_count": 14,
      "metadata": {
        "id": "5Hyniqzgylho"
      },
      "outputs": [],
      "source": [
        "# divide dataset into feature set (X) and labels (y)\n",
        "X = input_sequences[:, :-1]\n",
        "y = input_sequences[:, -1]"
      ]
    },
    {
      "cell_type": "code",
      "execution_count": 15,
      "metadata": {
        "colab": {
          "base_uri": "https://localhost:8080/"
        },
        "id": "H2KTRiMpyoGU",
        "outputId": "7e149567-f32f-4139-eff0-fad21f7aab58"
      },
      "outputs": [
        {
          "data": {
            "text/plain": [
              "array([0, 0, 0, 0, 0, 0, 0, 0, 0, 0, 0, 0, 0, 0, 0, 0, 0, 0, 0, 0, 0, 0,\n",
              "       0, 0, 0, 0, 0, 0, 0, 0, 0, 0, 0, 0, 0, 0, 0, 0, 0, 0, 0, 0, 0, 0,\n",
              "       0, 0, 0, 0, 0, 0, 0, 0, 0, 6])"
            ]
          },
          "execution_count": 15,
          "metadata": {},
          "output_type": "execute_result"
        }
      ],
      "source": [
        "X[0]"
      ]
    },
    {
      "cell_type": "code",
      "execution_count": 16,
      "metadata": {
        "colab": {
          "base_uri": "https://localhost:8080/"
        },
        "id": "N_x_JJaZypyZ",
        "outputId": "25ceb680-fff0-4915-e39e-d5a84aa55b0f"
      },
      "outputs": [
        {
          "data": {
            "text/plain": [
              "array([ 93,  22,  94, ...,  38, 177, 622])"
            ]
          },
          "execution_count": 16,
          "metadata": {},
          "output_type": "execute_result"
        }
      ],
      "source": [
        "y"
      ]
    },
    {
      "cell_type": "code",
      "execution_count": 18,
      "metadata": {
        "id": "Aj_A7RNPOgD6"
      },
      "outputs": [],
      "source": [
        "# number of words\n",
        "num_classes = len(tokenizer.word_index)+1"
      ]
    },
    {
      "cell_type": "code",
      "execution_count": 19,
      "metadata": {
        "id": "6_eFedJNyrwo"
      },
      "outputs": [],
      "source": [
        "# one-hot encoding labels\n",
        "y = np.array(tf.keras.utils.to_categorical(y, num_classes=num_classes))"
      ]
    },
    {
      "cell_type": "code",
      "execution_count": 20,
      "metadata": {
        "colab": {
          "base_uri": "https://localhost:8080/"
        },
        "id": "uiBwVPLjyugy",
        "outputId": "b9b25867-106d-4691-b71f-318840b527a3"
      },
      "outputs": [
        {
          "data": {
            "text/plain": [
              "array([0., 0., 0., 0., 0., 0., 0., 0., 0., 0., 0., 0., 0., 0., 0., 0., 0.,\n",
              "       0., 0., 0., 0., 0., 1., 0., 0., 0., 0., 0., 0., 0., 0., 0., 0., 0.,\n",
              "       0., 0., 0., 0., 0., 0., 0., 0., 0., 0., 0., 0., 0., 0., 0., 0., 0.,\n",
              "       0., 0., 0., 0., 0., 0., 0., 0., 0., 0., 0., 0., 0., 0., 0., 0., 0.,\n",
              "       0., 0., 0., 0., 0., 0., 0., 0., 0., 0., 0., 0., 0., 0., 0., 0., 0.,\n",
              "       0., 0., 0., 0., 0., 0., 0., 0., 0., 0., 0., 0., 0., 0., 0., 0., 0.,\n",
              "       0., 0., 0., 0., 0., 0., 0., 0., 0., 0., 0., 0., 0., 0., 0., 0., 0.,\n",
              "       0., 0., 0., 0., 0., 0., 0., 0., 0., 0., 0., 0., 0., 0., 0., 0., 0.,\n",
              "       0., 0., 0., 0., 0., 0., 0., 0., 0., 0., 0., 0., 0., 0., 0., 0., 0.,\n",
              "       0., 0., 0., 0., 0., 0., 0., 0., 0., 0., 0., 0., 0., 0., 0., 0., 0.,\n",
              "       0., 0., 0., 0., 0., 0., 0., 0., 0., 0., 0., 0., 0., 0., 0., 0., 0.,\n",
              "       0., 0., 0., 0., 0., 0., 0., 0., 0., 0., 0., 0., 0., 0., 0., 0., 0.,\n",
              "       0., 0., 0., 0., 0., 0., 0., 0., 0., 0., 0., 0., 0., 0., 0., 0., 0.,\n",
              "       0., 0., 0., 0., 0., 0., 0., 0., 0., 0., 0., 0., 0., 0., 0., 0., 0.,\n",
              "       0., 0., 0., 0., 0., 0., 0., 0., 0., 0., 0., 0., 0., 0., 0., 0., 0.,\n",
              "       0., 0., 0., 0., 0., 0., 0., 0., 0., 0., 0., 0., 0., 0., 0., 0., 0.,\n",
              "       0., 0., 0., 0., 0., 0., 0., 0., 0., 0., 0., 0., 0., 0., 0., 0., 0.,\n",
              "       0., 0., 0., 0., 0., 0., 0., 0., 0., 0., 0., 0., 0., 0., 0., 0., 0.,\n",
              "       0., 0., 0., 0., 0., 0., 0., 0., 0., 0., 0., 0., 0., 0., 0., 0., 0.,\n",
              "       0., 0., 0., 0., 0., 0., 0., 0., 0., 0., 0., 0., 0., 0., 0., 0., 0.,\n",
              "       0., 0., 0., 0., 0., 0., 0., 0., 0., 0., 0., 0., 0., 0., 0., 0., 0.,\n",
              "       0., 0., 0., 0., 0., 0., 0., 0., 0., 0., 0., 0., 0., 0., 0., 0., 0.,\n",
              "       0., 0., 0., 0., 0., 0., 0., 0., 0., 0., 0., 0., 0., 0., 0., 0., 0.,\n",
              "       0., 0., 0., 0., 0., 0., 0., 0., 0., 0., 0., 0., 0., 0., 0., 0., 0.,\n",
              "       0., 0., 0., 0., 0., 0., 0., 0., 0., 0., 0., 0., 0., 0., 0., 0., 0.,\n",
              "       0., 0., 0., 0., 0., 0., 0., 0., 0., 0., 0., 0., 0., 0., 0., 0., 0.,\n",
              "       0., 0., 0., 0., 0., 0., 0., 0., 0., 0., 0., 0., 0., 0., 0., 0., 0.,\n",
              "       0., 0., 0., 0., 0., 0., 0., 0., 0., 0., 0., 0., 0., 0., 0., 0., 0.,\n",
              "       0., 0., 0., 0., 0., 0., 0., 0., 0., 0., 0., 0., 0., 0., 0., 0., 0.,\n",
              "       0., 0., 0., 0., 0., 0., 0., 0., 0., 0., 0., 0., 0., 0., 0., 0., 0.,\n",
              "       0., 0., 0., 0., 0., 0., 0., 0., 0., 0., 0., 0., 0., 0., 0., 0., 0.,\n",
              "       0., 0., 0., 0., 0., 0., 0., 0., 0., 0., 0., 0., 0., 0., 0., 0., 0.,\n",
              "       0., 0., 0., 0., 0., 0., 0., 0., 0., 0., 0., 0., 0., 0., 0., 0., 0.,\n",
              "       0., 0., 0., 0., 0., 0., 0., 0., 0., 0., 0., 0., 0., 0., 0., 0., 0.,\n",
              "       0., 0., 0., 0., 0., 0., 0., 0., 0., 0., 0., 0., 0., 0., 0., 0., 0.,\n",
              "       0., 0., 0., 0., 0., 0., 0., 0., 0., 0., 0., 0., 0., 0., 0., 0., 0.,\n",
              "       0., 0., 0., 0., 0., 0., 0., 0., 0., 0., 0.])"
            ]
          },
          "execution_count": 20,
          "metadata": {},
          "output_type": "execute_result"
        }
      ],
      "source": [
        "y[1]"
      ]
    },
    {
      "cell_type": "code",
      "execution_count": 21,
      "metadata": {
        "id": "PE4P5PCNyxHx"
      },
      "outputs": [
        {
          "name": "stderr",
          "output_type": "stream",
          "text": [
            "C:\\Users\\Pasidhu\\AppData\\Roaming\\Python\\Python312\\site-packages\\keras\\src\\layers\\core\\embedding.py:90: UserWarning: Argument `input_length` is deprecated. Just remove it.\n",
            "  warnings.warn(\n"
          ]
        }
      ],
      "source": [
        "# model building\n",
        "model = tf.keras.models.Sequential()\n",
        "model.add(tf.keras.layers.Embedding(num_classes, 80, input_length=max_length-1))\n",
        "model.add(tf.keras.layers.LSTM(100))\n",
        "model.add(tf.keras.layers.Dense(num_classes, activation='softmax'))"
      ]
    },
    {
      "cell_type": "code",
      "execution_count": 22,
      "metadata": {
        "colab": {
          "base_uri": "https://localhost:8080/"
        },
        "id": "P83BqEAnQK0Q",
        "outputId": "46cacc1b-66d9-4a88-b8b8-f672eeb837a6"
      },
      "outputs": [
        {
          "data": {
            "text/html": [
              "<pre style=\"white-space:pre;overflow-x:auto;line-height:normal;font-family:Menlo,'DejaVu Sans Mono',consolas,'Courier New',monospace\"><span style=\"font-weight: bold\">Model: \"sequential\"</span>\n",
              "</pre>\n"
            ],
            "text/plain": [
              "\u001b[1mModel: \"sequential\"\u001b[0m\n"
            ]
          },
          "metadata": {},
          "output_type": "display_data"
        },
        {
          "data": {
            "text/html": [
              "<pre style=\"white-space:pre;overflow-x:auto;line-height:normal;font-family:Menlo,'DejaVu Sans Mono',consolas,'Courier New',monospace\">┏━━━━━━━━━━━━━━━━━━━━━━━━━━━━━━━━━┳━━━━━━━━━━━━━━━━━━━━━━━━┳━━━━━━━━━━━━━━━┓\n",
              "┃<span style=\"font-weight: bold\"> Layer (type)                    </span>┃<span style=\"font-weight: bold\"> Output Shape           </span>┃<span style=\"font-weight: bold\">       Param # </span>┃\n",
              "┡━━━━━━━━━━━━━━━━━━━━━━━━━━━━━━━━━╇━━━━━━━━━━━━━━━━━━━━━━━━╇━━━━━━━━━━━━━━━┩\n",
              "│ embedding (<span style=\"color: #0087ff; text-decoration-color: #0087ff\">Embedding</span>)           │ ?                      │   <span style=\"color: #00af00; text-decoration-color: #00af00\">0</span> (unbuilt) │\n",
              "├─────────────────────────────────┼────────────────────────┼───────────────┤\n",
              "│ lstm (<span style=\"color: #0087ff; text-decoration-color: #0087ff\">LSTM</span>)                     │ ?                      │   <span style=\"color: #00af00; text-decoration-color: #00af00\">0</span> (unbuilt) │\n",
              "├─────────────────────────────────┼────────────────────────┼───────────────┤\n",
              "│ dense (<span style=\"color: #0087ff; text-decoration-color: #0087ff\">Dense</span>)                   │ ?                      │   <span style=\"color: #00af00; text-decoration-color: #00af00\">0</span> (unbuilt) │\n",
              "└─────────────────────────────────┴────────────────────────┴───────────────┘\n",
              "</pre>\n"
            ],
            "text/plain": [
              "┏━━━━━━━━━━━━━━━━━━━━━━━━━━━━━━━━━┳━━━━━━━━━━━━━━━━━━━━━━━━┳━━━━━━━━━━━━━━━┓\n",
              "┃\u001b[1m \u001b[0m\u001b[1mLayer (type)                   \u001b[0m\u001b[1m \u001b[0m┃\u001b[1m \u001b[0m\u001b[1mOutput Shape          \u001b[0m\u001b[1m \u001b[0m┃\u001b[1m \u001b[0m\u001b[1m      Param #\u001b[0m\u001b[1m \u001b[0m┃\n",
              "┡━━━━━━━━━━━━━━━━━━━━━━━━━━━━━━━━━╇━━━━━━━━━━━━━━━━━━━━━━━━╇━━━━━━━━━━━━━━━┩\n",
              "│ embedding (\u001b[38;5;33mEmbedding\u001b[0m)           │ ?                      │   \u001b[38;5;34m0\u001b[0m (unbuilt) │\n",
              "├─────────────────────────────────┼────────────────────────┼───────────────┤\n",
              "│ lstm (\u001b[38;5;33mLSTM\u001b[0m)                     │ ?                      │   \u001b[38;5;34m0\u001b[0m (unbuilt) │\n",
              "├─────────────────────────────────┼────────────────────────┼───────────────┤\n",
              "│ dense (\u001b[38;5;33mDense\u001b[0m)                   │ ?                      │   \u001b[38;5;34m0\u001b[0m (unbuilt) │\n",
              "└─────────────────────────────────┴────────────────────────┴───────────────┘\n"
            ]
          },
          "metadata": {},
          "output_type": "display_data"
        },
        {
          "data": {
            "text/html": [
              "<pre style=\"white-space:pre;overflow-x:auto;line-height:normal;font-family:Menlo,'DejaVu Sans Mono',consolas,'Courier New',monospace\"><span style=\"font-weight: bold\"> Total params: </span><span style=\"color: #00af00; text-decoration-color: #00af00\">0</span> (0.00 B)\n",
              "</pre>\n"
            ],
            "text/plain": [
              "\u001b[1m Total params: \u001b[0m\u001b[38;5;34m0\u001b[0m (0.00 B)\n"
            ]
          },
          "metadata": {},
          "output_type": "display_data"
        },
        {
          "data": {
            "text/html": [
              "<pre style=\"white-space:pre;overflow-x:auto;line-height:normal;font-family:Menlo,'DejaVu Sans Mono',consolas,'Courier New',monospace\"><span style=\"font-weight: bold\"> Trainable params: </span><span style=\"color: #00af00; text-decoration-color: #00af00\">0</span> (0.00 B)\n",
              "</pre>\n"
            ],
            "text/plain": [
              "\u001b[1m Trainable params: \u001b[0m\u001b[38;5;34m0\u001b[0m (0.00 B)\n"
            ]
          },
          "metadata": {},
          "output_type": "display_data"
        },
        {
          "data": {
            "text/html": [
              "<pre style=\"white-space:pre;overflow-x:auto;line-height:normal;font-family:Menlo,'DejaVu Sans Mono',consolas,'Courier New',monospace\"><span style=\"font-weight: bold\"> Non-trainable params: </span><span style=\"color: #00af00; text-decoration-color: #00af00\">0</span> (0.00 B)\n",
              "</pre>\n"
            ],
            "text/plain": [
              "\u001b[1m Non-trainable params: \u001b[0m\u001b[38;5;34m0\u001b[0m (0.00 B)\n"
            ]
          },
          "metadata": {},
          "output_type": "display_data"
        }
      ],
      "source": [
        "model.summary()"
      ]
    },
    {
      "cell_type": "code",
      "execution_count": 23,
      "metadata": {
        "id": "JOWD_hPGy0Ky"
      },
      "outputs": [],
      "source": [
        "# compile the model\n",
        "model.compile(loss='categorical_crossentropy',\n",
        "              optimizer='adam',\n",
        "              metrics=['accuracy'])"
      ]
    },
    {
      "cell_type": "code",
      "execution_count": 24,
      "metadata": {
        "colab": {
          "base_uri": "https://localhost:8080/"
        },
        "id": "4HYPZ2KmQ-iv",
        "outputId": "18d875b1-06cb-4aad-bbee-0ea9fb618739"
      },
      "outputs": [
        {
          "name": "stdout",
          "output_type": "stream",
          "text": [
            "Epoch 1/100\n",
            "\u001b[1m47/47\u001b[0m \u001b[32m━━━━━━━━━━━━━━━━━━━━\u001b[0m\u001b[37m\u001b[0m \u001b[1m2s\u001b[0m 15ms/step - accuracy: 0.0688 - loss: 6.2642\n",
            "Epoch 2/100\n",
            "\u001b[1m47/47\u001b[0m \u001b[32m━━━━━━━━━━━━━━━━━━━━\u001b[0m\u001b[37m\u001b[0m \u001b[1m1s\u001b[0m 16ms/step - accuracy: 0.0777 - loss: 5.6309\n",
            "Epoch 3/100\n",
            "\u001b[1m47/47\u001b[0m \u001b[32m━━━━━━━━━━━━━━━━━━━━\u001b[0m\u001b[37m\u001b[0m \u001b[1m1s\u001b[0m 14ms/step - accuracy: 0.0842 - loss: 5.5866\n",
            "Epoch 4/100\n",
            "\u001b[1m47/47\u001b[0m \u001b[32m━━━━━━━━━━━━━━━━━━━━\u001b[0m\u001b[37m\u001b[0m \u001b[1m1s\u001b[0m 15ms/step - accuracy: 0.1054 - loss: 5.4689\n",
            "Epoch 5/100\n",
            "\u001b[1m47/47\u001b[0m \u001b[32m━━━━━━━━━━━━━━━━━━━━\u001b[0m\u001b[37m\u001b[0m \u001b[1m1s\u001b[0m 23ms/step - accuracy: 0.0875 - loss: 5.4172\n",
            "Epoch 6/100\n",
            "\u001b[1m47/47\u001b[0m \u001b[32m━━━━━━━━━━━━━━━━━━━━\u001b[0m\u001b[37m\u001b[0m \u001b[1m1s\u001b[0m 16ms/step - accuracy: 0.0821 - loss: 5.3701\n",
            "Epoch 7/100\n",
            "\u001b[1m47/47\u001b[0m \u001b[32m━━━━━━━━━━━━━━━━━━━━\u001b[0m\u001b[37m\u001b[0m \u001b[1m1s\u001b[0m 16ms/step - accuracy: 0.0982 - loss: 5.2839\n",
            "Epoch 8/100\n",
            "\u001b[1m47/47\u001b[0m \u001b[32m━━━━━━━━━━━━━━━━━━━━\u001b[0m\u001b[37m\u001b[0m \u001b[1m1s\u001b[0m 15ms/step - accuracy: 0.1103 - loss: 5.1473\n",
            "Epoch 9/100\n",
            "\u001b[1m47/47\u001b[0m \u001b[32m━━━━━━━━━━━━━━━━━━━━\u001b[0m\u001b[37m\u001b[0m \u001b[1m1s\u001b[0m 18ms/step - accuracy: 0.1177 - loss: 5.0932\n",
            "Epoch 10/100\n",
            "\u001b[1m47/47\u001b[0m \u001b[32m━━━━━━━━━━━━━━━━━━━━\u001b[0m\u001b[37m\u001b[0m \u001b[1m1s\u001b[0m 17ms/step - accuracy: 0.1283 - loss: 4.9568\n",
            "Epoch 11/100\n",
            "\u001b[1m47/47\u001b[0m \u001b[32m━━━━━━━━━━━━━━━━━━━━\u001b[0m\u001b[37m\u001b[0m \u001b[1m1s\u001b[0m 15ms/step - accuracy: 0.1272 - loss: 4.9428\n",
            "Epoch 12/100\n",
            "\u001b[1m47/47\u001b[0m \u001b[32m━━━━━━━━━━━━━━━━━━━━\u001b[0m\u001b[37m\u001b[0m \u001b[1m1s\u001b[0m 15ms/step - accuracy: 0.1372 - loss: 4.7992\n",
            "Epoch 13/100\n",
            "\u001b[1m47/47\u001b[0m \u001b[32m━━━━━━━━━━━━━━━━━━━━\u001b[0m\u001b[37m\u001b[0m \u001b[1m1s\u001b[0m 14ms/step - accuracy: 0.1459 - loss: 4.7369\n",
            "Epoch 14/100\n",
            "\u001b[1m47/47\u001b[0m \u001b[32m━━━━━━━━━━━━━━━━━━━━\u001b[0m\u001b[37m\u001b[0m \u001b[1m1s\u001b[0m 14ms/step - accuracy: 0.1548 - loss: 4.6374\n",
            "Epoch 15/100\n",
            "\u001b[1m47/47\u001b[0m \u001b[32m━━━━━━━━━━━━━━━━━━━━\u001b[0m\u001b[37m\u001b[0m \u001b[1m1s\u001b[0m 14ms/step - accuracy: 0.1697 - loss: 4.4988\n",
            "Epoch 16/100\n",
            "\u001b[1m47/47\u001b[0m \u001b[32m━━━━━━━━━━━━━━━━━━━━\u001b[0m\u001b[37m\u001b[0m \u001b[1m1s\u001b[0m 14ms/step - accuracy: 0.1726 - loss: 4.4388\n",
            "Epoch 17/100\n",
            "\u001b[1m47/47\u001b[0m \u001b[32m━━━━━━━━━━━━━━━━━━━━\u001b[0m\u001b[37m\u001b[0m \u001b[1m1s\u001b[0m 14ms/step - accuracy: 0.1740 - loss: 4.4502\n",
            "Epoch 18/100\n",
            "\u001b[1m47/47\u001b[0m \u001b[32m━━━━━━━━━━━━━━━━━━━━\u001b[0m\u001b[37m\u001b[0m \u001b[1m1s\u001b[0m 15ms/step - accuracy: 0.1879 - loss: 4.3352\n",
            "Epoch 19/100\n",
            "\u001b[1m47/47\u001b[0m \u001b[32m━━━━━━━━━━━━━━━━━━━━\u001b[0m\u001b[37m\u001b[0m \u001b[1m1s\u001b[0m 14ms/step - accuracy: 0.1923 - loss: 4.2075\n",
            "Epoch 20/100\n",
            "\u001b[1m47/47\u001b[0m \u001b[32m━━━━━━━━━━━━━━━━━━━━\u001b[0m\u001b[37m\u001b[0m \u001b[1m1s\u001b[0m 15ms/step - accuracy: 0.1979 - loss: 4.1695\n",
            "Epoch 21/100\n",
            "\u001b[1m47/47\u001b[0m \u001b[32m━━━━━━━━━━━━━━━━━━━━\u001b[0m\u001b[37m\u001b[0m \u001b[1m1s\u001b[0m 17ms/step - accuracy: 0.2176 - loss: 4.0221\n",
            "Epoch 22/100\n",
            "\u001b[1m47/47\u001b[0m \u001b[32m━━━━━━━━━━━━━━━━━━━━\u001b[0m\u001b[37m\u001b[0m \u001b[1m1s\u001b[0m 14ms/step - accuracy: 0.2225 - loss: 3.8935\n",
            "Epoch 23/100\n",
            "\u001b[1m47/47\u001b[0m \u001b[32m━━━━━━━━━━━━━━━━━━━━\u001b[0m\u001b[37m\u001b[0m \u001b[1m1s\u001b[0m 15ms/step - accuracy: 0.2274 - loss: 3.9153\n",
            "Epoch 24/100\n",
            "\u001b[1m47/47\u001b[0m \u001b[32m━━━━━━━━━━━━━━━━━━━━\u001b[0m\u001b[37m\u001b[0m \u001b[1m1s\u001b[0m 14ms/step - accuracy: 0.2344 - loss: 3.8257\n",
            "Epoch 25/100\n",
            "\u001b[1m47/47\u001b[0m \u001b[32m━━━━━━━━━━━━━━━━━━━━\u001b[0m\u001b[37m\u001b[0m \u001b[1m1s\u001b[0m 14ms/step - accuracy: 0.2716 - loss: 3.5847\n",
            "Epoch 26/100\n",
            "\u001b[1m47/47\u001b[0m \u001b[32m━━━━━━━━━━━━━━━━━━━━\u001b[0m\u001b[37m\u001b[0m \u001b[1m1s\u001b[0m 14ms/step - accuracy: 0.2683 - loss: 3.5777\n",
            "Epoch 27/100\n",
            "\u001b[1m47/47\u001b[0m \u001b[32m━━━━━━━━━━━━━━━━━━━━\u001b[0m\u001b[37m\u001b[0m \u001b[1m1s\u001b[0m 15ms/step - accuracy: 0.2888 - loss: 3.4427\n",
            "Epoch 28/100\n",
            "\u001b[1m47/47\u001b[0m \u001b[32m━━━━━━━━━━━━━━━━━━━━\u001b[0m\u001b[37m\u001b[0m \u001b[1m1s\u001b[0m 16ms/step - accuracy: 0.2878 - loss: 3.4294\n",
            "Epoch 29/100\n",
            "\u001b[1m47/47\u001b[0m \u001b[32m━━━━━━━━━━━━━━━━━━━━\u001b[0m\u001b[37m\u001b[0m \u001b[1m1s\u001b[0m 14ms/step - accuracy: 0.3345 - loss: 3.2789\n",
            "Epoch 30/100\n",
            "\u001b[1m47/47\u001b[0m \u001b[32m━━━━━━━━━━━━━━━━━━━━\u001b[0m\u001b[37m\u001b[0m \u001b[1m1s\u001b[0m 16ms/step - accuracy: 0.3487 - loss: 3.1623\n",
            "Epoch 31/100\n",
            "\u001b[1m47/47\u001b[0m \u001b[32m━━━━━━━━━━━━━━━━━━━━\u001b[0m\u001b[37m\u001b[0m \u001b[1m1s\u001b[0m 14ms/step - accuracy: 0.3547 - loss: 3.1422\n",
            "Epoch 32/100\n",
            "\u001b[1m47/47\u001b[0m \u001b[32m━━━━━━━━━━━━━━━━━━━━\u001b[0m\u001b[37m\u001b[0m \u001b[1m1s\u001b[0m 15ms/step - accuracy: 0.3684 - loss: 3.0084\n",
            "Epoch 33/100\n",
            "\u001b[1m47/47\u001b[0m \u001b[32m━━━━━━━━━━━━━━━━━━━━\u001b[0m\u001b[37m\u001b[0m \u001b[1m1s\u001b[0m 14ms/step - accuracy: 0.4010 - loss: 2.9506\n",
            "Epoch 34/100\n",
            "\u001b[1m47/47\u001b[0m \u001b[32m━━━━━━━━━━━━━━━━━━━━\u001b[0m\u001b[37m\u001b[0m \u001b[1m1s\u001b[0m 15ms/step - accuracy: 0.3915 - loss: 2.9140\n",
            "Epoch 35/100\n",
            "\u001b[1m47/47\u001b[0m \u001b[32m━━━━━━━━━━━━━━━━━━━━\u001b[0m\u001b[37m\u001b[0m \u001b[1m1s\u001b[0m 14ms/step - accuracy: 0.4379 - loss: 2.7334\n",
            "Epoch 36/100\n",
            "\u001b[1m47/47\u001b[0m \u001b[32m━━━━━━━━━━━━━━━━━━━━\u001b[0m\u001b[37m\u001b[0m \u001b[1m1s\u001b[0m 15ms/step - accuracy: 0.4443 - loss: 2.6985\n",
            "Epoch 37/100\n",
            "\u001b[1m47/47\u001b[0m \u001b[32m━━━━━━━━━━━━━━━━━━━━\u001b[0m\u001b[37m\u001b[0m \u001b[1m1s\u001b[0m 15ms/step - accuracy: 0.4390 - loss: 2.6654\n",
            "Epoch 38/100\n",
            "\u001b[1m47/47\u001b[0m \u001b[32m━━━━━━━━━━━━━━━━━━━━\u001b[0m\u001b[37m\u001b[0m \u001b[1m1s\u001b[0m 14ms/step - accuracy: 0.4855 - loss: 2.5488\n",
            "Epoch 39/100\n",
            "\u001b[1m47/47\u001b[0m \u001b[32m━━━━━━━━━━━━━━━━━━━━\u001b[0m\u001b[37m\u001b[0m \u001b[1m1s\u001b[0m 15ms/step - accuracy: 0.5355 - loss: 2.3503\n",
            "Epoch 40/100\n",
            "\u001b[1m47/47\u001b[0m \u001b[32m━━━━━━━━━━━━━━━━━━━━\u001b[0m\u001b[37m\u001b[0m \u001b[1m1s\u001b[0m 14ms/step - accuracy: 0.5176 - loss: 2.3953\n",
            "Epoch 41/100\n",
            "\u001b[1m47/47\u001b[0m \u001b[32m━━━━━━━━━━━━━━━━━━━━\u001b[0m\u001b[37m\u001b[0m \u001b[1m1s\u001b[0m 15ms/step - accuracy: 0.5322 - loss: 2.3459\n",
            "Epoch 42/100\n",
            "\u001b[1m47/47\u001b[0m \u001b[32m━━━━━━━━━━━━━━━━━━━━\u001b[0m\u001b[37m\u001b[0m \u001b[1m1s\u001b[0m 14ms/step - accuracy: 0.5942 - loss: 2.1776\n",
            "Epoch 43/100\n",
            "\u001b[1m47/47\u001b[0m \u001b[32m━━━━━━━━━━━━━━━━━━━━\u001b[0m\u001b[37m\u001b[0m \u001b[1m1s\u001b[0m 14ms/step - accuracy: 0.6088 - loss: 2.0977\n",
            "Epoch 44/100\n",
            "\u001b[1m47/47\u001b[0m \u001b[32m━━━━━━━━━━━━━━━━━━━━\u001b[0m\u001b[37m\u001b[0m \u001b[1m1s\u001b[0m 14ms/step - accuracy: 0.6464 - loss: 1.9852\n",
            "Epoch 45/100\n",
            "\u001b[1m47/47\u001b[0m \u001b[32m━━━━━━━━━━━━━━━━━━━━\u001b[0m\u001b[37m\u001b[0m \u001b[1m1s\u001b[0m 15ms/step - accuracy: 0.6584 - loss: 1.9537\n",
            "Epoch 46/100\n",
            "\u001b[1m47/47\u001b[0m \u001b[32m━━━━━━━━━━━━━━━━━━━━\u001b[0m\u001b[37m\u001b[0m \u001b[1m1s\u001b[0m 15ms/step - accuracy: 0.6816 - loss: 1.8832\n",
            "Epoch 47/100\n",
            "\u001b[1m47/47\u001b[0m \u001b[32m━━━━━━━━━━━━━━━━━━━━\u001b[0m\u001b[37m\u001b[0m \u001b[1m1s\u001b[0m 15ms/step - accuracy: 0.6937 - loss: 1.8003\n",
            "Epoch 48/100\n",
            "\u001b[1m47/47\u001b[0m \u001b[32m━━━━━━━━━━━━━━━━━━━━\u001b[0m\u001b[37m\u001b[0m \u001b[1m1s\u001b[0m 14ms/step - accuracy: 0.7060 - loss: 1.6768\n",
            "Epoch 49/100\n",
            "\u001b[1m47/47\u001b[0m \u001b[32m━━━━━━━━━━━━━━━━━━━━\u001b[0m\u001b[37m\u001b[0m \u001b[1m1s\u001b[0m 15ms/step - accuracy: 0.7082 - loss: 1.6782\n",
            "Epoch 50/100\n",
            "\u001b[1m47/47\u001b[0m \u001b[32m━━━━━━━━━━━━━━━━━━━━\u001b[0m\u001b[37m\u001b[0m \u001b[1m1s\u001b[0m 14ms/step - accuracy: 0.7224 - loss: 1.6239\n",
            "Epoch 51/100\n",
            "\u001b[1m47/47\u001b[0m \u001b[32m━━━━━━━━━━━━━━━━━━━━\u001b[0m\u001b[37m\u001b[0m \u001b[1m1s\u001b[0m 14ms/step - accuracy: 0.7388 - loss: 1.5651\n",
            "Epoch 52/100\n",
            "\u001b[1m47/47\u001b[0m \u001b[32m━━━━━━━━━━━━━━━━━━━━\u001b[0m\u001b[37m\u001b[0m \u001b[1m1s\u001b[0m 15ms/step - accuracy: 0.7665 - loss: 1.4904\n",
            "Epoch 53/100\n",
            "\u001b[1m47/47\u001b[0m \u001b[32m━━━━━━━━━━━━━━━━━━━━\u001b[0m\u001b[37m\u001b[0m \u001b[1m1s\u001b[0m 15ms/step - accuracy: 0.7717 - loss: 1.3903\n",
            "Epoch 54/100\n",
            "\u001b[1m47/47\u001b[0m \u001b[32m━━━━━━━━━━━━━━━━━━━━\u001b[0m\u001b[37m\u001b[0m \u001b[1m1s\u001b[0m 15ms/step - accuracy: 0.7906 - loss: 1.3491\n",
            "Epoch 55/100\n",
            "\u001b[1m47/47\u001b[0m \u001b[32m━━━━━━━━━━━━━━━━━━━━\u001b[0m\u001b[37m\u001b[0m \u001b[1m1s\u001b[0m 14ms/step - accuracy: 0.7968 - loss: 1.3163\n",
            "Epoch 56/100\n",
            "\u001b[1m47/47\u001b[0m \u001b[32m━━━━━━━━━━━━━━━━━━━━\u001b[0m\u001b[37m\u001b[0m \u001b[1m1s\u001b[0m 15ms/step - accuracy: 0.7963 - loss: 1.2441\n",
            "Epoch 57/100\n",
            "\u001b[1m47/47\u001b[0m \u001b[32m━━━━━━━━━━━━━━━━━━━━\u001b[0m\u001b[37m\u001b[0m \u001b[1m1s\u001b[0m 15ms/step - accuracy: 0.8132 - loss: 1.2403\n",
            "Epoch 58/100\n",
            "\u001b[1m47/47\u001b[0m \u001b[32m━━━━━━━━━━━━━━━━━━━━\u001b[0m\u001b[37m\u001b[0m \u001b[1m1s\u001b[0m 14ms/step - accuracy: 0.8162 - loss: 1.1941\n",
            "Epoch 59/100\n",
            "\u001b[1m47/47\u001b[0m \u001b[32m━━━━━━━━━━━━━━━━━━━━\u001b[0m\u001b[37m\u001b[0m \u001b[1m1s\u001b[0m 15ms/step - accuracy: 0.8241 - loss: 1.1535\n",
            "Epoch 60/100\n",
            "\u001b[1m47/47\u001b[0m \u001b[32m━━━━━━━━━━━━━━━━━━━━\u001b[0m\u001b[37m\u001b[0m \u001b[1m1s\u001b[0m 15ms/step - accuracy: 0.8545 - loss: 1.0608\n",
            "Epoch 61/100\n",
            "\u001b[1m47/47\u001b[0m \u001b[32m━━━━━━━━━━━━━━━━━━━━\u001b[0m\u001b[37m\u001b[0m \u001b[1m1s\u001b[0m 19ms/step - accuracy: 0.8623 - loss: 1.0280\n",
            "Epoch 62/100\n",
            "\u001b[1m47/47\u001b[0m \u001b[32m━━━━━━━━━━━━━━━━━━━━\u001b[0m\u001b[37m\u001b[0m \u001b[1m1s\u001b[0m 14ms/step - accuracy: 0.8644 - loss: 0.9491\n",
            "Epoch 63/100\n",
            "\u001b[1m47/47\u001b[0m \u001b[32m━━━━━━━━━━━━━━━━━━━━\u001b[0m\u001b[37m\u001b[0m \u001b[1m1s\u001b[0m 18ms/step - accuracy: 0.8633 - loss: 0.9710\n",
            "Epoch 64/100\n",
            "\u001b[1m47/47\u001b[0m \u001b[32m━━━━━━━━━━━━━━━━━━━━\u001b[0m\u001b[37m\u001b[0m \u001b[1m1s\u001b[0m 14ms/step - accuracy: 0.8722 - loss: 0.9148\n",
            "Epoch 65/100\n",
            "\u001b[1m47/47\u001b[0m \u001b[32m━━━━━━━━━━━━━━━━━━━━\u001b[0m\u001b[37m\u001b[0m \u001b[1m1s\u001b[0m 21ms/step - accuracy: 0.8885 - loss: 0.8357\n",
            "Epoch 66/100\n",
            "\u001b[1m47/47\u001b[0m \u001b[32m━━━━━━━━━━━━━━━━━━━━\u001b[0m\u001b[37m\u001b[0m \u001b[1m1s\u001b[0m 15ms/step - accuracy: 0.8778 - loss: 0.8765\n",
            "Epoch 67/100\n",
            "\u001b[1m47/47\u001b[0m \u001b[32m━━━━━━━━━━━━━━━━━━━━\u001b[0m\u001b[37m\u001b[0m \u001b[1m1s\u001b[0m 14ms/step - accuracy: 0.8844 - loss: 0.8243\n",
            "Epoch 68/100\n",
            "\u001b[1m47/47\u001b[0m \u001b[32m━━━━━━━━━━━━━━━━━━━━\u001b[0m\u001b[37m\u001b[0m \u001b[1m1s\u001b[0m 14ms/step - accuracy: 0.8944 - loss: 0.7963\n",
            "Epoch 69/100\n",
            "\u001b[1m47/47\u001b[0m \u001b[32m━━━━━━━━━━━━━━━━━━━━\u001b[0m\u001b[37m\u001b[0m \u001b[1m1s\u001b[0m 22ms/step - accuracy: 0.8933 - loss: 0.7698\n",
            "Epoch 70/100\n",
            "\u001b[1m47/47\u001b[0m \u001b[32m━━━━━━━━━━━━━━━━━━━━\u001b[0m\u001b[37m\u001b[0m \u001b[1m1s\u001b[0m 19ms/step - accuracy: 0.9040 - loss: 0.7200\n",
            "Epoch 71/100\n",
            "\u001b[1m47/47\u001b[0m \u001b[32m━━━━━━━━━━━━━━━━━━━━\u001b[0m\u001b[37m\u001b[0m \u001b[1m1s\u001b[0m 14ms/step - accuracy: 0.9102 - loss: 0.6823\n",
            "Epoch 72/100\n",
            "\u001b[1m47/47\u001b[0m \u001b[32m━━━━━━━━━━━━━━━━━━━━\u001b[0m\u001b[37m\u001b[0m \u001b[1m1s\u001b[0m 14ms/step - accuracy: 0.9011 - loss: 0.6868\n",
            "Epoch 73/100\n",
            "\u001b[1m47/47\u001b[0m \u001b[32m━━━━━━━━━━━━━━━━━━━━\u001b[0m\u001b[37m\u001b[0m \u001b[1m1s\u001b[0m 14ms/step - accuracy: 0.9159 - loss: 0.6411\n",
            "Epoch 74/100\n",
            "\u001b[1m47/47\u001b[0m \u001b[32m━━━━━━━━━━━━━━━━━━━━\u001b[0m\u001b[37m\u001b[0m \u001b[1m1s\u001b[0m 15ms/step - accuracy: 0.9112 - loss: 0.6381\n",
            "Epoch 75/100\n",
            "\u001b[1m47/47\u001b[0m \u001b[32m━━━━━━━━━━━━━━━━━━━━\u001b[0m\u001b[37m\u001b[0m \u001b[1m1s\u001b[0m 14ms/step - accuracy: 0.9101 - loss: 0.6393\n",
            "Epoch 76/100\n",
            "\u001b[1m47/47\u001b[0m \u001b[32m━━━━━━━━━━━━━━━━━━━━\u001b[0m\u001b[37m\u001b[0m \u001b[1m1s\u001b[0m 14ms/step - accuracy: 0.9247 - loss: 0.6121\n",
            "Epoch 77/100\n",
            "\u001b[1m47/47\u001b[0m \u001b[32m━━━━━━━━━━━━━━━━━━━━\u001b[0m\u001b[37m\u001b[0m \u001b[1m1s\u001b[0m 14ms/step - accuracy: 0.9347 - loss: 0.5550\n",
            "Epoch 78/100\n",
            "\u001b[1m47/47\u001b[0m \u001b[32m━━━━━━━━━━━━━━━━━━━━\u001b[0m\u001b[37m\u001b[0m \u001b[1m1s\u001b[0m 15ms/step - accuracy: 0.9352 - loss: 0.5376\n",
            "Epoch 79/100\n",
            "\u001b[1m47/47\u001b[0m \u001b[32m━━━━━━━━━━━━━━━━━━━━\u001b[0m\u001b[37m\u001b[0m \u001b[1m1s\u001b[0m 14ms/step - accuracy: 0.9463 - loss: 0.5110\n",
            "Epoch 80/100\n",
            "\u001b[1m47/47\u001b[0m \u001b[32m━━━━━━━━━━━━━━━━━━━━\u001b[0m\u001b[37m\u001b[0m \u001b[1m1s\u001b[0m 16ms/step - accuracy: 0.9425 - loss: 0.5192\n",
            "Epoch 81/100\n",
            "\u001b[1m47/47\u001b[0m \u001b[32m━━━━━━━━━━━━━━━━━━━━\u001b[0m\u001b[37m\u001b[0m \u001b[1m1s\u001b[0m 18ms/step - accuracy: 0.9434 - loss: 0.4752\n",
            "Epoch 82/100\n",
            "\u001b[1m47/47\u001b[0m \u001b[32m━━━━━━━━━━━━━━━━━━━━\u001b[0m\u001b[37m\u001b[0m \u001b[1m1s\u001b[0m 18ms/step - accuracy: 0.9383 - loss: 0.4895\n",
            "Epoch 83/100\n",
            "\u001b[1m47/47\u001b[0m \u001b[32m━━━━━━━━━━━━━━━━━━━━\u001b[0m\u001b[37m\u001b[0m \u001b[1m1s\u001b[0m 17ms/step - accuracy: 0.9521 - loss: 0.4546\n",
            "Epoch 84/100\n",
            "\u001b[1m47/47\u001b[0m \u001b[32m━━━━━━━━━━━━━━━━━━━━\u001b[0m\u001b[37m\u001b[0m \u001b[1m1s\u001b[0m 16ms/step - accuracy: 0.9609 - loss: 0.4232\n",
            "Epoch 85/100\n",
            "\u001b[1m47/47\u001b[0m \u001b[32m━━━━━━━━━━━━━━━━━━━━\u001b[0m\u001b[37m\u001b[0m \u001b[1m1s\u001b[0m 16ms/step - accuracy: 0.9559 - loss: 0.4339\n",
            "Epoch 86/100\n",
            "\u001b[1m47/47\u001b[0m \u001b[32m━━━━━━━━━━━━━━━━━━━━\u001b[0m\u001b[37m\u001b[0m \u001b[1m1s\u001b[0m 15ms/step - accuracy: 0.9598 - loss: 0.4086\n",
            "Epoch 87/100\n",
            "\u001b[1m47/47\u001b[0m \u001b[32m━━━━━━━━━━━━━━━━━━━━\u001b[0m\u001b[37m\u001b[0m \u001b[1m1s\u001b[0m 16ms/step - accuracy: 0.9506 - loss: 0.4319\n",
            "Epoch 88/100\n",
            "\u001b[1m47/47\u001b[0m \u001b[32m━━━━━━━━━━━━━━━━━━━━\u001b[0m\u001b[37m\u001b[0m \u001b[1m1s\u001b[0m 14ms/step - accuracy: 0.9552 - loss: 0.3742\n",
            "Epoch 89/100\n",
            "\u001b[1m47/47\u001b[0m \u001b[32m━━━━━━━━━━━━━━━━━━━━\u001b[0m\u001b[37m\u001b[0m \u001b[1m1s\u001b[0m 14ms/step - accuracy: 0.9592 - loss: 0.3943\n",
            "Epoch 90/100\n",
            "\u001b[1m47/47\u001b[0m \u001b[32m━━━━━━━━━━━━━━━━━━━━\u001b[0m\u001b[37m\u001b[0m \u001b[1m1s\u001b[0m 14ms/step - accuracy: 0.9715 - loss: 0.3466\n",
            "Epoch 91/100\n",
            "\u001b[1m47/47\u001b[0m \u001b[32m━━━━━━━━━━━━━━━━━━━━\u001b[0m\u001b[37m\u001b[0m \u001b[1m1s\u001b[0m 14ms/step - accuracy: 0.9688 - loss: 0.3478\n",
            "Epoch 92/100\n",
            "\u001b[1m47/47\u001b[0m \u001b[32m━━━━━━━━━━━━━━━━━━━━\u001b[0m\u001b[37m\u001b[0m \u001b[1m1s\u001b[0m 14ms/step - accuracy: 0.9702 - loss: 0.3424\n",
            "Epoch 93/100\n",
            "\u001b[1m47/47\u001b[0m \u001b[32m━━━━━━━━━━━━━━━━━━━━\u001b[0m\u001b[37m\u001b[0m \u001b[1m1s\u001b[0m 14ms/step - accuracy: 0.9712 - loss: 0.3232\n",
            "Epoch 94/100\n",
            "\u001b[1m47/47\u001b[0m \u001b[32m━━━━━━━━━━━━━━━━━━━━\u001b[0m\u001b[37m\u001b[0m \u001b[1m1s\u001b[0m 14ms/step - accuracy: 0.9713 - loss: 0.2992\n",
            "Epoch 95/100\n",
            "\u001b[1m47/47\u001b[0m \u001b[32m━━━━━━━━━━━━━━━━━━━━\u001b[0m\u001b[37m\u001b[0m \u001b[1m1s\u001b[0m 14ms/step - accuracy: 0.9701 - loss: 0.3059\n",
            "Epoch 96/100\n",
            "\u001b[1m47/47\u001b[0m \u001b[32m━━━━━━━━━━━━━━━━━━━━\u001b[0m\u001b[37m\u001b[0m \u001b[1m1s\u001b[0m 14ms/step - accuracy: 0.9732 - loss: 0.2867\n",
            "Epoch 97/100\n",
            "\u001b[1m47/47\u001b[0m \u001b[32m━━━━━━━━━━━━━━━━━━━━\u001b[0m\u001b[37m\u001b[0m \u001b[1m1s\u001b[0m 13ms/step - accuracy: 0.9696 - loss: 0.2919\n",
            "Epoch 98/100\n",
            "\u001b[1m47/47\u001b[0m \u001b[32m━━━━━━━━━━━━━━━━━━━━\u001b[0m\u001b[37m\u001b[0m \u001b[1m1s\u001b[0m 13ms/step - accuracy: 0.9803 - loss: 0.2627\n",
            "Epoch 99/100\n",
            "\u001b[1m47/47\u001b[0m \u001b[32m━━━━━━━━━━━━━━━━━━━━\u001b[0m\u001b[37m\u001b[0m \u001b[1m1s\u001b[0m 14ms/step - accuracy: 0.9728 - loss: 0.2666\n",
            "Epoch 100/100\n",
            "\u001b[1m47/47\u001b[0m \u001b[32m━━━━━━━━━━━━━━━━━━━━\u001b[0m\u001b[37m\u001b[0m \u001b[1m1s\u001b[0m 14ms/step - accuracy: 0.9735 - loss: 0.2708\n"
          ]
        }
      ],
      "source": [
        "# model training\n",
        "history = model.fit(X, y, epochs=100)"
      ]
    },
    {
      "cell_type": "markdown",
      "metadata": {
        "id": "WDBGLYWmyJH8"
      },
      "source": [
        "### Prediction Phase"
      ]
    },
    {
      "cell_type": "code",
      "execution_count": 25,
      "metadata": {
        "colab": {
          "base_uri": "https://localhost:8080/"
        },
        "id": "UEtrlTICy23n",
        "outputId": "4f101461-3ee2-4560-9edd-e0310f1f29d7"
      },
      "outputs": [
        {
          "name": "stdout",
          "output_type": "stream",
          "text": [
            "\u001b[1m1/1\u001b[0m \u001b[32m━━━━━━━━━━━━━━━━━━━━\u001b[0m\u001b[37m\u001b[0m \u001b[1m0s\u001b[0m 112ms/step\n",
            "\u001b[1m1/1\u001b[0m \u001b[32m━━━━━━━━━━━━━━━━━━━━\u001b[0m\u001b[37m\u001b[0m \u001b[1m0s\u001b[0m 20ms/step\n",
            "\u001b[1m1/1\u001b[0m \u001b[32m━━━━━━━━━━━━━━━━━━━━\u001b[0m\u001b[37m\u001b[0m \u001b[1m0s\u001b[0m 16ms/step\n",
            "\u001b[1m1/1\u001b[0m \u001b[32m━━━━━━━━━━━━━━━━━━━━\u001b[0m\u001b[37m\u001b[0m \u001b[1m0s\u001b[0m 18ms/step\n",
            "\u001b[1m1/1\u001b[0m \u001b[32m━━━━━━━━━━━━━━━━━━━━\u001b[0m\u001b[37m\u001b[0m \u001b[1m0s\u001b[0m 22ms/step\n",
            "\u001b[1m1/1\u001b[0m \u001b[32m━━━━━━━━━━━━━━━━━━━━\u001b[0m\u001b[37m\u001b[0m \u001b[1m0s\u001b[0m 15ms/step\n",
            "cricket begin the game had been growing both\n"
          ]
        }
      ],
      "source": [
        "input_text = \"cricket begin\"\n",
        "for i in range(6):\n",
        "    token_list = tokenizer.texts_to_sequences([input_text])[0]\n",
        "    token_list = tf.keras.preprocessing.sequence.pad_sequences([token_list], maxlen=max_length-1, padding='pre')\n",
        "    predicted = np.argmax(model.predict(token_list), axis=-1)\n",
        "    output_word = \"\"\n",
        "    for word, index in tokenizer.word_index.items():\n",
        "        if index == predicted:\n",
        "            output_word = word\n",
        "            break\n",
        "    input_text += \" \" + output_word\n",
        "\n",
        "print(input_text)"
      ]
    }
  ],
  "metadata": {
    "colab": {
      "provenance": []
    },
    "kernelspec": {
      "display_name": "Python 3",
      "name": "python3"
    },
    "language_info": {
      "codemirror_mode": {
        "name": "ipython",
        "version": 3
      },
      "file_extension": ".py",
      "mimetype": "text/x-python",
      "name": "python",
      "nbconvert_exporter": "python",
      "pygments_lexer": "ipython3",
      "version": "3.12.3"
    }
  },
  "nbformat": 4,
  "nbformat_minor": 0
}
